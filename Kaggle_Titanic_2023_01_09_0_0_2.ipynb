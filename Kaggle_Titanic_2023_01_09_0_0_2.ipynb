{
  "nbformat": 4,
  "nbformat_minor": 0,
  "metadata": {
    "colab": {
      "provenance": []
    },
    "kernelspec": {
      "name": "python3",
      "display_name": "Python 3"
    },
    "language_info": {
      "name": "python"
    }
  },
  "cells": [
    {
      "cell_type": "markdown",
      "source": [
        "## 타이타닉 데이터 다운로드"
      ],
      "metadata": {
        "id": "X88t_XY8hra9"
      }
    },
    {
      "cell_type": "code",
      "source": [
        "!pip install kaggle\n",
        "from google.colab import files\n",
        "files.upload()"
      ],
      "metadata": {
        "colab": {
          "base_uri": "https://localhost:8080/",
          "height": 335
        },
        "id": "iprmWy1ddMrl",
        "outputId": "399824ab-095a-4e30-e8aa-35566afdc93a"
      },
      "execution_count": 3,
      "outputs": [
        {
          "output_type": "stream",
          "name": "stdout",
          "text": [
            "Looking in indexes: https://pypi.org/simple, https://us-python.pkg.dev/colab-wheels/public/simple/\n",
            "Requirement already satisfied: kaggle in /usr/local/lib/python3.8/dist-packages (1.5.12)\n",
            "Requirement already satisfied: urllib3 in /usr/local/lib/python3.8/dist-packages (from kaggle) (1.24.3)\n",
            "Requirement already satisfied: tqdm in /usr/local/lib/python3.8/dist-packages (from kaggle) (4.64.1)\n",
            "Requirement already satisfied: requests in /usr/local/lib/python3.8/dist-packages (from kaggle) (2.25.1)\n",
            "Requirement already satisfied: six>=1.10 in /usr/local/lib/python3.8/dist-packages (from kaggle) (1.15.0)\n",
            "Requirement already satisfied: certifi in /usr/local/lib/python3.8/dist-packages (from kaggle) (2022.12.7)\n",
            "Requirement already satisfied: python-dateutil in /usr/local/lib/python3.8/dist-packages (from kaggle) (2.8.2)\n",
            "Requirement already satisfied: python-slugify in /usr/local/lib/python3.8/dist-packages (from kaggle) (7.0.0)\n",
            "Requirement already satisfied: text-unidecode>=1.3 in /usr/local/lib/python3.8/dist-packages (from python-slugify->kaggle) (1.3)\n",
            "Requirement already satisfied: idna<3,>=2.5 in /usr/local/lib/python3.8/dist-packages (from requests->kaggle) (2.10)\n",
            "Requirement already satisfied: chardet<5,>=3.0.2 in /usr/local/lib/python3.8/dist-packages (from requests->kaggle) (4.0.0)\n"
          ]
        },
        {
          "output_type": "display_data",
          "data": {
            "text/plain": [
              "<IPython.core.display.HTML object>"
            ],
            "text/html": [
              "\n",
              "     <input type=\"file\" id=\"files-9eb86bda-0795-485e-ab00-596c98bca7c5\" name=\"files[]\" multiple disabled\n",
              "        style=\"border:none\" />\n",
              "     <output id=\"result-9eb86bda-0795-485e-ab00-596c98bca7c5\">\n",
              "      Upload widget is only available when the cell has been executed in the\n",
              "      current browser session. Please rerun this cell to enable.\n",
              "      </output>\n",
              "      <script>// Copyright 2017 Google LLC\n",
              "//\n",
              "// Licensed under the Apache License, Version 2.0 (the \"License\");\n",
              "// you may not use this file except in compliance with the License.\n",
              "// You may obtain a copy of the License at\n",
              "//\n",
              "//      http://www.apache.org/licenses/LICENSE-2.0\n",
              "//\n",
              "// Unless required by applicable law or agreed to in writing, software\n",
              "// distributed under the License is distributed on an \"AS IS\" BASIS,\n",
              "// WITHOUT WARRANTIES OR CONDITIONS OF ANY KIND, either express or implied.\n",
              "// See the License for the specific language governing permissions and\n",
              "// limitations under the License.\n",
              "\n",
              "/**\n",
              " * @fileoverview Helpers for google.colab Python module.\n",
              " */\n",
              "(function(scope) {\n",
              "function span(text, styleAttributes = {}) {\n",
              "  const element = document.createElement('span');\n",
              "  element.textContent = text;\n",
              "  for (const key of Object.keys(styleAttributes)) {\n",
              "    element.style[key] = styleAttributes[key];\n",
              "  }\n",
              "  return element;\n",
              "}\n",
              "\n",
              "// Max number of bytes which will be uploaded at a time.\n",
              "const MAX_PAYLOAD_SIZE = 100 * 1024;\n",
              "\n",
              "function _uploadFiles(inputId, outputId) {\n",
              "  const steps = uploadFilesStep(inputId, outputId);\n",
              "  const outputElement = document.getElementById(outputId);\n",
              "  // Cache steps on the outputElement to make it available for the next call\n",
              "  // to uploadFilesContinue from Python.\n",
              "  outputElement.steps = steps;\n",
              "\n",
              "  return _uploadFilesContinue(outputId);\n",
              "}\n",
              "\n",
              "// This is roughly an async generator (not supported in the browser yet),\n",
              "// where there are multiple asynchronous steps and the Python side is going\n",
              "// to poll for completion of each step.\n",
              "// This uses a Promise to block the python side on completion of each step,\n",
              "// then passes the result of the previous step as the input to the next step.\n",
              "function _uploadFilesContinue(outputId) {\n",
              "  const outputElement = document.getElementById(outputId);\n",
              "  const steps = outputElement.steps;\n",
              "\n",
              "  const next = steps.next(outputElement.lastPromiseValue);\n",
              "  return Promise.resolve(next.value.promise).then((value) => {\n",
              "    // Cache the last promise value to make it available to the next\n",
              "    // step of the generator.\n",
              "    outputElement.lastPromiseValue = value;\n",
              "    return next.value.response;\n",
              "  });\n",
              "}\n",
              "\n",
              "/**\n",
              " * Generator function which is called between each async step of the upload\n",
              " * process.\n",
              " * @param {string} inputId Element ID of the input file picker element.\n",
              " * @param {string} outputId Element ID of the output display.\n",
              " * @return {!Iterable<!Object>} Iterable of next steps.\n",
              " */\n",
              "function* uploadFilesStep(inputId, outputId) {\n",
              "  const inputElement = document.getElementById(inputId);\n",
              "  inputElement.disabled = false;\n",
              "\n",
              "  const outputElement = document.getElementById(outputId);\n",
              "  outputElement.innerHTML = '';\n",
              "\n",
              "  const pickedPromise = new Promise((resolve) => {\n",
              "    inputElement.addEventListener('change', (e) => {\n",
              "      resolve(e.target.files);\n",
              "    });\n",
              "  });\n",
              "\n",
              "  const cancel = document.createElement('button');\n",
              "  inputElement.parentElement.appendChild(cancel);\n",
              "  cancel.textContent = 'Cancel upload';\n",
              "  const cancelPromise = new Promise((resolve) => {\n",
              "    cancel.onclick = () => {\n",
              "      resolve(null);\n",
              "    };\n",
              "  });\n",
              "\n",
              "  // Wait for the user to pick the files.\n",
              "  const files = yield {\n",
              "    promise: Promise.race([pickedPromise, cancelPromise]),\n",
              "    response: {\n",
              "      action: 'starting',\n",
              "    }\n",
              "  };\n",
              "\n",
              "  cancel.remove();\n",
              "\n",
              "  // Disable the input element since further picks are not allowed.\n",
              "  inputElement.disabled = true;\n",
              "\n",
              "  if (!files) {\n",
              "    return {\n",
              "      response: {\n",
              "        action: 'complete',\n",
              "      }\n",
              "    };\n",
              "  }\n",
              "\n",
              "  for (const file of files) {\n",
              "    const li = document.createElement('li');\n",
              "    li.append(span(file.name, {fontWeight: 'bold'}));\n",
              "    li.append(span(\n",
              "        `(${file.type || 'n/a'}) - ${file.size} bytes, ` +\n",
              "        `last modified: ${\n",
              "            file.lastModifiedDate ? file.lastModifiedDate.toLocaleDateString() :\n",
              "                                    'n/a'} - `));\n",
              "    const percent = span('0% done');\n",
              "    li.appendChild(percent);\n",
              "\n",
              "    outputElement.appendChild(li);\n",
              "\n",
              "    const fileDataPromise = new Promise((resolve) => {\n",
              "      const reader = new FileReader();\n",
              "      reader.onload = (e) => {\n",
              "        resolve(e.target.result);\n",
              "      };\n",
              "      reader.readAsArrayBuffer(file);\n",
              "    });\n",
              "    // Wait for the data to be ready.\n",
              "    let fileData = yield {\n",
              "      promise: fileDataPromise,\n",
              "      response: {\n",
              "        action: 'continue',\n",
              "      }\n",
              "    };\n",
              "\n",
              "    // Use a chunked sending to avoid message size limits. See b/62115660.\n",
              "    let position = 0;\n",
              "    do {\n",
              "      const length = Math.min(fileData.byteLength - position, MAX_PAYLOAD_SIZE);\n",
              "      const chunk = new Uint8Array(fileData, position, length);\n",
              "      position += length;\n",
              "\n",
              "      const base64 = btoa(String.fromCharCode.apply(null, chunk));\n",
              "      yield {\n",
              "        response: {\n",
              "          action: 'append',\n",
              "          file: file.name,\n",
              "          data: base64,\n",
              "        },\n",
              "      };\n",
              "\n",
              "      let percentDone = fileData.byteLength === 0 ?\n",
              "          100 :\n",
              "          Math.round((position / fileData.byteLength) * 100);\n",
              "      percent.textContent = `${percentDone}% done`;\n",
              "\n",
              "    } while (position < fileData.byteLength);\n",
              "  }\n",
              "\n",
              "  // All done.\n",
              "  yield {\n",
              "    response: {\n",
              "      action: 'complete',\n",
              "    }\n",
              "  };\n",
              "}\n",
              "\n",
              "scope.google = scope.google || {};\n",
              "scope.google.colab = scope.google.colab || {};\n",
              "scope.google.colab._files = {\n",
              "  _uploadFiles,\n",
              "  _uploadFilesContinue,\n",
              "};\n",
              "})(self);\n",
              "</script> "
            ]
          },
          "metadata": {}
        },
        {
          "output_type": "stream",
          "name": "stdout",
          "text": [
            "Saving kaggle.json to kaggle.json\n"
          ]
        },
        {
          "output_type": "execute_result",
          "data": {
            "text/plain": [
              "{'kaggle.json': b'{\"username\":\"taeyangg4\",\"key\":\"b9a22b3cb91a965bc5ca1c46065ee041\"}'}"
            ]
          },
          "metadata": {},
          "execution_count": 3
        }
      ]
    },
    {
      "cell_type": "code",
      "source": [
        "# ls -1ha kaggle.json"
      ],
      "metadata": {
        "id": "3wsH3jg5fYdh"
      },
      "execution_count": 5,
      "outputs": []
    },
    {
      "cell_type": "code",
      "source": [
        "!mkdir -p ~/.kaggle\n",
        "!cp kaggle.json ~/.kaggle\n",
        "!chmod 600  ~/.kaggle/kaggle.json"
      ],
      "metadata": {
        "id": "uE1kiU2xd4wV"
      },
      "execution_count": 6,
      "outputs": []
    },
    {
      "cell_type": "code",
      "source": [
        "!kaggle competitions download -c titanic"
      ],
      "metadata": {
        "colab": {
          "base_uri": "https://localhost:8080/"
        },
        "id": "lP4R3L_UfytV",
        "outputId": "519a7408-598e-46b0-84e1-f42356ea8c95"
      },
      "execution_count": 7,
      "outputs": [
        {
          "output_type": "stream",
          "name": "stdout",
          "text": [
            "Downloading titanic.zip to /content\n",
            "\r  0% 0.00/34.1k [00:00<?, ?B/s]\n",
            "\r100% 34.1k/34.1k [00:00<00:00, 19.7MB/s]\n"
          ]
        }
      ]
    },
    {
      "cell_type": "code",
      "source": [
        "# !ls\n",
        "!unzip /content/titanic.zip"
      ],
      "metadata": {
        "colab": {
          "base_uri": "https://localhost:8080/"
        },
        "id": "Z8C9YKFgf1G7",
        "outputId": "97c4742c-7c5a-4c1b-a643-549e1f63a067"
      },
      "execution_count": 10,
      "outputs": [
        {
          "output_type": "stream",
          "name": "stdout",
          "text": [
            "Archive:  /content/titanic.zip\n",
            "  inflating: gender_submission.csv   \n",
            "  inflating: test.csv                \n",
            "  inflating: train.csv               \n"
          ]
        }
      ]
    },
    {
      "cell_type": "markdown",
      "source": [
        "# import & sklearn "
      ],
      "metadata": {
        "id": "DoSUCEauhqxr"
      }
    },
    {
      "cell_type": "code",
      "source": [
        "# !pip list\n",
        "!pip install xgboost\n",
        "!pip install category_encoders"
      ],
      "metadata": {
        "colab": {
          "base_uri": "https://localhost:8080/"
        },
        "id": "mn5N39NGlT0H",
        "outputId": "8a8ea09b-2e4f-4a0f-de65-6338e5cca80a"
      },
      "execution_count": 21,
      "outputs": [
        {
          "output_type": "stream",
          "name": "stdout",
          "text": [
            "Looking in indexes: https://pypi.org/simple, https://us-python.pkg.dev/colab-wheels/public/simple/\n",
            "Requirement already satisfied: xgboost in /usr/local/lib/python3.8/dist-packages (0.90)\n",
            "Requirement already satisfied: scipy in /usr/local/lib/python3.8/dist-packages (from xgboost) (1.7.3)\n",
            "Requirement already satisfied: numpy in /usr/local/lib/python3.8/dist-packages (from xgboost) (1.21.6)\n",
            "Looking in indexes: https://pypi.org/simple, https://us-python.pkg.dev/colab-wheels/public/simple/\n",
            "Collecting category_encoders\n",
            "  Downloading category_encoders-2.5.1.post0-py2.py3-none-any.whl (72 kB)\n",
            "\u001b[2K     \u001b[90m━━━━━━━━━━━━━━━━━━━━━━━━━━━━━━━━━━━━━━━━\u001b[0m \u001b[32m72.4/72.4 KB\u001b[0m \u001b[31m4.5 MB/s\u001b[0m eta \u001b[36m0:00:00\u001b[0m\n",
            "\u001b[?25hRequirement already satisfied: scipy>=1.0.0 in /usr/local/lib/python3.8/dist-packages (from category_encoders) (1.7.3)\n",
            "Requirement already satisfied: scikit-learn>=0.20.0 in /usr/local/lib/python3.8/dist-packages (from category_encoders) (1.0.2)\n",
            "Requirement already satisfied: statsmodels>=0.9.0 in /usr/local/lib/python3.8/dist-packages (from category_encoders) (0.12.2)\n",
            "Requirement already satisfied: patsy>=0.5.1 in /usr/local/lib/python3.8/dist-packages (from category_encoders) (0.5.3)\n",
            "Requirement already satisfied: pandas>=1.0.5 in /usr/local/lib/python3.8/dist-packages (from category_encoders) (1.3.5)\n",
            "Requirement already satisfied: numpy>=1.14.0 in /usr/local/lib/python3.8/dist-packages (from category_encoders) (1.21.6)\n",
            "Requirement already satisfied: python-dateutil>=2.7.3 in /usr/local/lib/python3.8/dist-packages (from pandas>=1.0.5->category_encoders) (2.8.2)\n",
            "Requirement already satisfied: pytz>=2017.3 in /usr/local/lib/python3.8/dist-packages (from pandas>=1.0.5->category_encoders) (2022.7)\n",
            "Requirement already satisfied: six in /usr/local/lib/python3.8/dist-packages (from patsy>=0.5.1->category_encoders) (1.15.0)\n",
            "Requirement already satisfied: joblib>=0.11 in /usr/local/lib/python3.8/dist-packages (from scikit-learn>=0.20.0->category_encoders) (1.2.0)\n",
            "Requirement already satisfied: threadpoolctl>=2.0.0 in /usr/local/lib/python3.8/dist-packages (from scikit-learn>=0.20.0->category_encoders) (3.1.0)\n",
            "Installing collected packages: category_encoders\n",
            "Successfully installed category_encoders-2.5.1.post0\n"
          ]
        }
      ]
    },
    {
      "cell_type": "code",
      "execution_count": 335,
      "metadata": {
        "id": "Vql3728Qb0SL"
      },
      "outputs": [],
      "source": [
        "# 데이터 관리\n",
        "import pandas as pd\n",
        "import numpy as np\n",
        "import pickle\n",
        "import datetime\n",
        "import pytz\n",
        "import time\n",
        "import math\n",
        "import os\n",
        "\n",
        "# 시각화\n",
        "%matplotlib inline\n",
        "import matplotlib.pyplot as plt\n",
        "import seaborn as sns\n",
        "sns.set(style=\"darkgrid\")\n",
        "from scipy.stats import norm\n",
        "\n",
        "# 모델링\n",
        "from xgboost import XGBClassifier\n",
        "from sklearn.preprocessing import LabelEncoder, StandardScaler\n",
        "from category_encoders import OneHotEncoder, OrdinalEncoder, TargetEncoder\n",
        "from sklearn.model_selection import RandomizedSearchCV, GridSearchCV\n",
        "from sklearn.model_selection import train_test_split\n",
        "from sklearn.metrics import accuracy_score, roc_curve, auc"
      ]
    },
    {
      "cell_type": "code",
      "source": [
        "data = pd.read_csv('/content/train.csv')\n",
        "test_data = pd.read_csv('/content/test.csv')\n",
        "submission = pd.read_csv('/content/gender_submission.csv')"
      ],
      "metadata": {
        "id": "__MBHs0Vc48z"
      },
      "execution_count": 814,
      "outputs": []
    },
    {
      "cell_type": "markdown",
      "source": [
        "# EDA 및 전처리"
      ],
      "metadata": {
        "id": "JNAF1SXljulJ"
      }
    },
    {
      "cell_type": "code",
      "source": [
        "test = test_data.copy()"
      ],
      "metadata": {
        "id": "GOdZpHs8jGg9"
      },
      "execution_count": 815,
      "outputs": []
    },
    {
      "cell_type": "code",
      "source": [
        "# df = pd.concat([data,test_data],axis = 0).reset_index(drop = True)\n",
        "df = data.copy()\n",
        "df"
      ],
      "metadata": {
        "colab": {
          "base_uri": "https://localhost:8080/",
          "height": 991
        },
        "id": "0wXSg0idiMFO",
        "outputId": "bb3b3669-d5e6-446a-b199-6610b91dbc54"
      },
      "execution_count": 816,
      "outputs": [
        {
          "output_type": "execute_result",
          "data": {
            "text/plain": [
              "     PassengerId  Survived  Pclass  \\\n",
              "0              1         0       3   \n",
              "1              2         1       1   \n",
              "2              3         1       3   \n",
              "3              4         1       1   \n",
              "4              5         0       3   \n",
              "..           ...       ...     ...   \n",
              "886          887         0       2   \n",
              "887          888         1       1   \n",
              "888          889         0       3   \n",
              "889          890         1       1   \n",
              "890          891         0       3   \n",
              "\n",
              "                                                  Name     Sex   Age  SibSp  \\\n",
              "0                              Braund, Mr. Owen Harris    male  22.0      1   \n",
              "1    Cumings, Mrs. John Bradley (Florence Briggs Th...  female  38.0      1   \n",
              "2                               Heikkinen, Miss. Laina  female  26.0      0   \n",
              "3         Futrelle, Mrs. Jacques Heath (Lily May Peel)  female  35.0      1   \n",
              "4                             Allen, Mr. William Henry    male  35.0      0   \n",
              "..                                                 ...     ...   ...    ...   \n",
              "886                              Montvila, Rev. Juozas    male  27.0      0   \n",
              "887                       Graham, Miss. Margaret Edith  female  19.0      0   \n",
              "888           Johnston, Miss. Catherine Helen \"Carrie\"  female   NaN      1   \n",
              "889                              Behr, Mr. Karl Howell    male  26.0      0   \n",
              "890                                Dooley, Mr. Patrick    male  32.0      0   \n",
              "\n",
              "     Parch            Ticket     Fare Cabin Embarked  \n",
              "0        0         A/5 21171   7.2500   NaN        S  \n",
              "1        0          PC 17599  71.2833   C85        C  \n",
              "2        0  STON/O2. 3101282   7.9250   NaN        S  \n",
              "3        0            113803  53.1000  C123        S  \n",
              "4        0            373450   8.0500   NaN        S  \n",
              "..     ...               ...      ...   ...      ...  \n",
              "886      0            211536  13.0000   NaN        S  \n",
              "887      0            112053  30.0000   B42        S  \n",
              "888      2        W./C. 6607  23.4500   NaN        S  \n",
              "889      0            111369  30.0000  C148        C  \n",
              "890      0            370376   7.7500   NaN        Q  \n",
              "\n",
              "[891 rows x 12 columns]"
            ],
            "text/html": [
              "\n",
              "  <div id=\"df-3e00953a-2b70-429a-8a5f-a5750da545db\">\n",
              "    <div class=\"colab-df-container\">\n",
              "      <div>\n",
              "<style scoped>\n",
              "    .dataframe tbody tr th:only-of-type {\n",
              "        vertical-align: middle;\n",
              "    }\n",
              "\n",
              "    .dataframe tbody tr th {\n",
              "        vertical-align: top;\n",
              "    }\n",
              "\n",
              "    .dataframe thead th {\n",
              "        text-align: right;\n",
              "    }\n",
              "</style>\n",
              "<table border=\"1\" class=\"dataframe\">\n",
              "  <thead>\n",
              "    <tr style=\"text-align: right;\">\n",
              "      <th></th>\n",
              "      <th>PassengerId</th>\n",
              "      <th>Survived</th>\n",
              "      <th>Pclass</th>\n",
              "      <th>Name</th>\n",
              "      <th>Sex</th>\n",
              "      <th>Age</th>\n",
              "      <th>SibSp</th>\n",
              "      <th>Parch</th>\n",
              "      <th>Ticket</th>\n",
              "      <th>Fare</th>\n",
              "      <th>Cabin</th>\n",
              "      <th>Embarked</th>\n",
              "    </tr>\n",
              "  </thead>\n",
              "  <tbody>\n",
              "    <tr>\n",
              "      <th>0</th>\n",
              "      <td>1</td>\n",
              "      <td>0</td>\n",
              "      <td>3</td>\n",
              "      <td>Braund, Mr. Owen Harris</td>\n",
              "      <td>male</td>\n",
              "      <td>22.0</td>\n",
              "      <td>1</td>\n",
              "      <td>0</td>\n",
              "      <td>A/5 21171</td>\n",
              "      <td>7.2500</td>\n",
              "      <td>NaN</td>\n",
              "      <td>S</td>\n",
              "    </tr>\n",
              "    <tr>\n",
              "      <th>1</th>\n",
              "      <td>2</td>\n",
              "      <td>1</td>\n",
              "      <td>1</td>\n",
              "      <td>Cumings, Mrs. John Bradley (Florence Briggs Th...</td>\n",
              "      <td>female</td>\n",
              "      <td>38.0</td>\n",
              "      <td>1</td>\n",
              "      <td>0</td>\n",
              "      <td>PC 17599</td>\n",
              "      <td>71.2833</td>\n",
              "      <td>C85</td>\n",
              "      <td>C</td>\n",
              "    </tr>\n",
              "    <tr>\n",
              "      <th>2</th>\n",
              "      <td>3</td>\n",
              "      <td>1</td>\n",
              "      <td>3</td>\n",
              "      <td>Heikkinen, Miss. Laina</td>\n",
              "      <td>female</td>\n",
              "      <td>26.0</td>\n",
              "      <td>0</td>\n",
              "      <td>0</td>\n",
              "      <td>STON/O2. 3101282</td>\n",
              "      <td>7.9250</td>\n",
              "      <td>NaN</td>\n",
              "      <td>S</td>\n",
              "    </tr>\n",
              "    <tr>\n",
              "      <th>3</th>\n",
              "      <td>4</td>\n",
              "      <td>1</td>\n",
              "      <td>1</td>\n",
              "      <td>Futrelle, Mrs. Jacques Heath (Lily May Peel)</td>\n",
              "      <td>female</td>\n",
              "      <td>35.0</td>\n",
              "      <td>1</td>\n",
              "      <td>0</td>\n",
              "      <td>113803</td>\n",
              "      <td>53.1000</td>\n",
              "      <td>C123</td>\n",
              "      <td>S</td>\n",
              "    </tr>\n",
              "    <tr>\n",
              "      <th>4</th>\n",
              "      <td>5</td>\n",
              "      <td>0</td>\n",
              "      <td>3</td>\n",
              "      <td>Allen, Mr. William Henry</td>\n",
              "      <td>male</td>\n",
              "      <td>35.0</td>\n",
              "      <td>0</td>\n",
              "      <td>0</td>\n",
              "      <td>373450</td>\n",
              "      <td>8.0500</td>\n",
              "      <td>NaN</td>\n",
              "      <td>S</td>\n",
              "    </tr>\n",
              "    <tr>\n",
              "      <th>...</th>\n",
              "      <td>...</td>\n",
              "      <td>...</td>\n",
              "      <td>...</td>\n",
              "      <td>...</td>\n",
              "      <td>...</td>\n",
              "      <td>...</td>\n",
              "      <td>...</td>\n",
              "      <td>...</td>\n",
              "      <td>...</td>\n",
              "      <td>...</td>\n",
              "      <td>...</td>\n",
              "      <td>...</td>\n",
              "    </tr>\n",
              "    <tr>\n",
              "      <th>886</th>\n",
              "      <td>887</td>\n",
              "      <td>0</td>\n",
              "      <td>2</td>\n",
              "      <td>Montvila, Rev. Juozas</td>\n",
              "      <td>male</td>\n",
              "      <td>27.0</td>\n",
              "      <td>0</td>\n",
              "      <td>0</td>\n",
              "      <td>211536</td>\n",
              "      <td>13.0000</td>\n",
              "      <td>NaN</td>\n",
              "      <td>S</td>\n",
              "    </tr>\n",
              "    <tr>\n",
              "      <th>887</th>\n",
              "      <td>888</td>\n",
              "      <td>1</td>\n",
              "      <td>1</td>\n",
              "      <td>Graham, Miss. Margaret Edith</td>\n",
              "      <td>female</td>\n",
              "      <td>19.0</td>\n",
              "      <td>0</td>\n",
              "      <td>0</td>\n",
              "      <td>112053</td>\n",
              "      <td>30.0000</td>\n",
              "      <td>B42</td>\n",
              "      <td>S</td>\n",
              "    </tr>\n",
              "    <tr>\n",
              "      <th>888</th>\n",
              "      <td>889</td>\n",
              "      <td>0</td>\n",
              "      <td>3</td>\n",
              "      <td>Johnston, Miss. Catherine Helen \"Carrie\"</td>\n",
              "      <td>female</td>\n",
              "      <td>NaN</td>\n",
              "      <td>1</td>\n",
              "      <td>2</td>\n",
              "      <td>W./C. 6607</td>\n",
              "      <td>23.4500</td>\n",
              "      <td>NaN</td>\n",
              "      <td>S</td>\n",
              "    </tr>\n",
              "    <tr>\n",
              "      <th>889</th>\n",
              "      <td>890</td>\n",
              "      <td>1</td>\n",
              "      <td>1</td>\n",
              "      <td>Behr, Mr. Karl Howell</td>\n",
              "      <td>male</td>\n",
              "      <td>26.0</td>\n",
              "      <td>0</td>\n",
              "      <td>0</td>\n",
              "      <td>111369</td>\n",
              "      <td>30.0000</td>\n",
              "      <td>C148</td>\n",
              "      <td>C</td>\n",
              "    </tr>\n",
              "    <tr>\n",
              "      <th>890</th>\n",
              "      <td>891</td>\n",
              "      <td>0</td>\n",
              "      <td>3</td>\n",
              "      <td>Dooley, Mr. Patrick</td>\n",
              "      <td>male</td>\n",
              "      <td>32.0</td>\n",
              "      <td>0</td>\n",
              "      <td>0</td>\n",
              "      <td>370376</td>\n",
              "      <td>7.7500</td>\n",
              "      <td>NaN</td>\n",
              "      <td>Q</td>\n",
              "    </tr>\n",
              "  </tbody>\n",
              "</table>\n",
              "<p>891 rows × 12 columns</p>\n",
              "</div>\n",
              "      <button class=\"colab-df-convert\" onclick=\"convertToInteractive('df-3e00953a-2b70-429a-8a5f-a5750da545db')\"\n",
              "              title=\"Convert this dataframe to an interactive table.\"\n",
              "              style=\"display:none;\">\n",
              "        \n",
              "  <svg xmlns=\"http://www.w3.org/2000/svg\" height=\"24px\"viewBox=\"0 0 24 24\"\n",
              "       width=\"24px\">\n",
              "    <path d=\"M0 0h24v24H0V0z\" fill=\"none\"/>\n",
              "    <path d=\"M18.56 5.44l.94 2.06.94-2.06 2.06-.94-2.06-.94-.94-2.06-.94 2.06-2.06.94zm-11 1L8.5 8.5l.94-2.06 2.06-.94-2.06-.94L8.5 2.5l-.94 2.06-2.06.94zm10 10l.94 2.06.94-2.06 2.06-.94-2.06-.94-.94-2.06-.94 2.06-2.06.94z\"/><path d=\"M17.41 7.96l-1.37-1.37c-.4-.4-.92-.59-1.43-.59-.52 0-1.04.2-1.43.59L10.3 9.45l-7.72 7.72c-.78.78-.78 2.05 0 2.83L4 21.41c.39.39.9.59 1.41.59.51 0 1.02-.2 1.41-.59l7.78-7.78 2.81-2.81c.8-.78.8-2.07 0-2.86zM5.41 20L4 18.59l7.72-7.72 1.47 1.35L5.41 20z\"/>\n",
              "  </svg>\n",
              "      </button>\n",
              "      \n",
              "  <style>\n",
              "    .colab-df-container {\n",
              "      display:flex;\n",
              "      flex-wrap:wrap;\n",
              "      gap: 12px;\n",
              "    }\n",
              "\n",
              "    .colab-df-convert {\n",
              "      background-color: #E8F0FE;\n",
              "      border: none;\n",
              "      border-radius: 50%;\n",
              "      cursor: pointer;\n",
              "      display: none;\n",
              "      fill: #1967D2;\n",
              "      height: 32px;\n",
              "      padding: 0 0 0 0;\n",
              "      width: 32px;\n",
              "    }\n",
              "\n",
              "    .colab-df-convert:hover {\n",
              "      background-color: #E2EBFA;\n",
              "      box-shadow: 0px 1px 2px rgba(60, 64, 67, 0.3), 0px 1px 3px 1px rgba(60, 64, 67, 0.15);\n",
              "      fill: #174EA6;\n",
              "    }\n",
              "\n",
              "    [theme=dark] .colab-df-convert {\n",
              "      background-color: #3B4455;\n",
              "      fill: #D2E3FC;\n",
              "    }\n",
              "\n",
              "    [theme=dark] .colab-df-convert:hover {\n",
              "      background-color: #434B5C;\n",
              "      box-shadow: 0px 1px 3px 1px rgba(0, 0, 0, 0.15);\n",
              "      filter: drop-shadow(0px 1px 2px rgba(0, 0, 0, 0.3));\n",
              "      fill: #FFFFFF;\n",
              "    }\n",
              "  </style>\n",
              "\n",
              "      <script>\n",
              "        const buttonEl =\n",
              "          document.querySelector('#df-3e00953a-2b70-429a-8a5f-a5750da545db button.colab-df-convert');\n",
              "        buttonEl.style.display =\n",
              "          google.colab.kernel.accessAllowed ? 'block' : 'none';\n",
              "\n",
              "        async function convertToInteractive(key) {\n",
              "          const element = document.querySelector('#df-3e00953a-2b70-429a-8a5f-a5750da545db');\n",
              "          const dataTable =\n",
              "            await google.colab.kernel.invokeFunction('convertToInteractive',\n",
              "                                                     [key], {});\n",
              "          if (!dataTable) return;\n",
              "\n",
              "          const docLinkHtml = 'Like what you see? Visit the ' +\n",
              "            '<a target=\"_blank\" href=https://colab.research.google.com/notebooks/data_table.ipynb>data table notebook</a>'\n",
              "            + ' to learn more about interactive tables.';\n",
              "          element.innerHTML = '';\n",
              "          dataTable['output_type'] = 'display_data';\n",
              "          await google.colab.output.renderOutput(dataTable, element);\n",
              "          const docLink = document.createElement('div');\n",
              "          docLink.innerHTML = docLinkHtml;\n",
              "          element.appendChild(docLink);\n",
              "        }\n",
              "      </script>\n",
              "    </div>\n",
              "  </div>\n",
              "  "
            ]
          },
          "metadata": {},
          "execution_count": 816
        }
      ]
    },
    {
      "cell_type": "code",
      "source": [
        "# # 1st EDA\n",
        "# df = data.copy()\n",
        "# df['Fare'] = pd.qcut(df['Fare'], 13)\n",
        "# df['Age'] = pd.qcut(df['Age'], 10)\n",
        "# df['Family_Size'] = df['SibSp'] + df['Parch'] + 1\n",
        "# df['Ticket_Frequency'] = df.groupby('Ticket')['Ticket'].transform('count')\n",
        "\n",
        "# df['Title'] = df['Name'].str.split(', ', expand=True)[1].str.split('.', expand=True)[0]\n",
        "# df['Is_Married'] = 0\n",
        "# df['Is_Married'].loc[df['Title'] == 'Mrs'] = 1"
      ],
      "metadata": {
        "colab": {
          "base_uri": "https://localhost:8080/"
        },
        "id": "p0OcbaPkns4r",
        "outputId": "9c6b4490-de02-41dc-fef8-1414cd96e6e3"
      },
      "execution_count": 636,
      "outputs": [
        {
          "output_type": "stream",
          "name": "stderr",
          "text": [
            "/usr/local/lib/python3.8/dist-packages/pandas/core/indexing.py:1732: SettingWithCopyWarning: \n",
            "A value is trying to be set on a copy of a slice from a DataFrame\n",
            "\n",
            "See the caveats in the documentation: https://pandas.pydata.org/pandas-docs/stable/user_guide/indexing.html#returning-a-view-versus-a-copy\n",
            "  self._setitem_single_block(indexer, value, name)\n"
          ]
        }
      ]
    },
    {
      "cell_type": "code",
      "source": [
        "\n",
        "# 2nd EDA\n",
        "#Thanks to:\n",
        "# https://www.kaggle.com/mauricef/titanic\n",
        "# https://www.kaggle.com/vbmokin/titanic-top-3-one-line-of-the-prediction-code\n",
        "# https://www.kaggle.com/code/vbmokin/merging-fe-prediction-xgb-lgb-logr-linr\n",
        "df = pd.concat([data,test_data],axis = 0).reset_index(drop = True)\n",
        "# df = data.copy()\n",
        "df['Title'] = df.Name.str.split(',').str[1].str.split('.').str[0].str.strip()\n",
        "df['IsWomanOrBoy'] = ((df.Title == 'Master') | (df.Sex == 'female'))\n",
        "df['LastName'] = df.Name.str.split(',').str[0]\n",
        "family = df.groupby(df.LastName).Survived\n",
        "df['WomanOrBoyCount'] = family.transform(lambda s: s[df.IsWomanOrBoy].fillna(0).count())\n",
        "df['FamilySurvivedCount'] = family.transform(lambda s: s[df.IsWomanOrBoy].fillna(0).sum())\n",
        "df['WomanOrBoySurvived'] = df.FamilySurvivedCount / df.WomanOrBoyCount\n",
        "df.WomanOrBoyCount = df.WomanOrBoyCount\n",
        "df['Alone'] = (df.WomanOrBoyCount == 0)\n",
        "\n",
        "#Thanks to https://www.kaggle.com/kpacocha/top-6-titanic-machine-learning-from-disaster\n",
        "#\"Title\" improvement\n",
        "df['Title'] = df['Title'].replace('Ms','Miss')\n",
        "df['Title'] = df['Title'].replace('Mlle','Miss')\n",
        "df['Title'] = df['Title'].replace('Mme','Mrs')\n",
        "# Embarked\n",
        "df['Embarked'] = df['Embarked'].fillna('S')\n",
        "# Cabin, Deck\n",
        "df['Deck'] = df['Cabin'].apply(lambda s: s[0] if pd.notnull(s) else 'M')\n",
        "#df.loc[(df['Deck'] == 'T'), 'Deck'] = 'A'\n",
        "\n",
        "# Thanks to https://www.kaggle.com/erinsweet/simpledetect\n",
        "# Fare\n",
        "med_fare = df.groupby(['Pclass', 'Parch', 'SibSp']).Fare.median()[3][0][0]\n",
        "df['Fare'] = df['Fare'].fillna(med_fare)\n",
        "df['Fare'] = pd.qcut(df['Fare'], 13)\n",
        "#Age\n",
        "df['Age'] = df.groupby(['Sex', 'Pclass', 'Title'])['Age'].apply(lambda x: x.fillna(x.median()))\n",
        "df['Age'] = pd.qcut(df['Age'], 8)\n",
        "# Family_Size\n",
        "df['Family_Size'] = df['SibSp'] + df['Parch'] + 1\n",
        "\n",
        "# Thanks to https://www.kaggle.com/vbmokin/titanic-top-3-cluster-analysis\n",
        "cols_to_drop = ['Name','Ticket','Cabin', 'IsWomanOrBoy', 'WomanOrBoyCount', 'FamilySurvivedCount']\n",
        "df = df.drop(cols_to_drop, axis=1)\n",
        "\n",
        "df.WomanOrBoySurvived = df.WomanOrBoySurvived.fillna(0)\n",
        "df.WomanOrBoySurvived = df.WomanOrBoySurvived.astype(int)\n",
        "# df['WomanOrBoySurvived'] = pd.qcut(df['WomanOrBoySurvived'], 10)\n",
        "df.Alone = df.Alone.fillna(0)\n",
        "\n",
        "train_processed = df[df['Survived'].notnull()]\n",
        "test_processed = df[df['Survived'].isnull()]\n",
        "test_processed = test_processed.drop(['Survived'], axis=1)"
      ],
      "metadata": {
        "id": "yCvhW6WvUt6n"
      },
      "execution_count": 826,
      "outputs": []
    },
    {
      "cell_type": "markdown",
      "source": [
        "## 결측값 확인"
      ],
      "metadata": {
        "id": "RZg4Iuc2mY_c"
      }
    },
    {
      "cell_type": "code",
      "source": [
        "df['Fare']"
      ],
      "metadata": {
        "colab": {
          "base_uri": "https://localhost:8080/"
        },
        "id": "UTc7qB36njR1",
        "outputId": "5aa96e42-0a7b-4ad8-ef1a-b22fe26c7131"
      },
      "execution_count": 638,
      "outputs": [
        {
          "output_type": "execute_result",
          "data": {
            "text/plain": [
              "0          (-0.001, 7.25]\n",
              "1        (56.496, 83.475]\n",
              "2           (7.896, 8.05]\n",
              "3        (34.157, 56.496]\n",
              "4           (7.896, 8.05]\n",
              "              ...        \n",
              "1304        (7.896, 8.05]\n",
              "1305    (83.475, 512.329]\n",
              "1306       (-0.001, 7.25]\n",
              "1307        (7.896, 8.05]\n",
              "1308      (15.742, 23.25]\n",
              "Name: Fare, Length: 1309, dtype: category\n",
              "Categories (13, interval[float64, right]): [(-0.001, 7.25] < (7.25, 7.75] < (7.75, 7.896] <\n",
              "                                            (7.896, 8.05] ... (26.55, 34.157] <\n",
              "                                            (34.157, 56.496] < (56.496, 83.475] < (83.475, 512.329]]"
            ]
          },
          "metadata": {},
          "execution_count": 638
        }
      ]
    },
    {
      "cell_type": "code",
      "source": [
        "def display_missing(df):    \n",
        "    for col in df.columns.tolist():          \n",
        "        print(f'{col} column missing values: {df[col].isnull().sum()}')\n",
        "    print('\\n')"
      ],
      "metadata": {
        "id": "FpU6N-6_mcFG"
      },
      "execution_count": 639,
      "outputs": []
    },
    {
      "cell_type": "markdown",
      "source": [
        "# 모델링 준비작업"
      ],
      "metadata": {
        "id": "Zm4JjrnqWyLD"
      }
    },
    {
      "cell_type": "markdown",
      "source": [
        "---"
      ],
      "metadata": {
        "id": "z0698lEgmSHE"
      }
    },
    {
      "cell_type": "markdown",
      "source": [
        "# 모델링 작업"
      ],
      "metadata": {
        "id": "IWtMbb4pjxcC"
      }
    },
    {
      "cell_type": "code",
      "source": [
        "class My_func:\n",
        "\n",
        "  # __init__\n",
        "  def __init__(self):\n",
        "    self.result = 0\n",
        "    self._features = []\n",
        "    self._target = ''\n",
        "\n",
        "  # 특성 및 타겟 setter, getter 작성\n",
        "  @property\n",
        "  def features(self):\n",
        "    return self._features\n",
        "  \n",
        "  @features.setter\n",
        "  def features(self, data):\n",
        "    values = data.drop(columns = self._target).columns\n",
        "    self._features = list(values)\n",
        "\n",
        "  @property\n",
        "  def target(self):\n",
        "    return self._target\n",
        "  \n",
        "  @target.setter\n",
        "  def target(self, value):\n",
        "    target = value\n",
        "    self._target = target\n",
        "\n",
        "  # 훈련/검증/테스트 데이터 나누는 함수\n",
        "  def split_data(self, data):\n",
        "    train, test = train_test_split(data, train_size=0.80, test_size=0.20, random_state=2)\n",
        "    return train, test\n",
        "\n",
        "  # 특성과 타겟값 분리하는 함수\n",
        "  def split_target(self, data, features, target):\n",
        "    X_data = data[features]\n",
        "    y_data = data[target]\n",
        "\n",
        "    return X_data, y_data\n",
        "\n",
        "  # 인코딩하는 함수\n",
        "  def encoding(self, X_train, X_test):\n",
        "    ord = OrdinalEncoder()\n",
        "\n",
        "    X_train_enc = ord.fit_transform(X_train)\n",
        "    X_test_enc = ord.transform(X_test)\n",
        "\n",
        "    return X_train_enc, X_test_enc\n",
        "\n",
        "  # 생존자예측 XGBClassifier 모델 함수\n",
        "  def modeling(self):\n",
        "    xgb_model = XGBClassifier(\n",
        "        n_jobs=-1,  \n",
        "        random_state=1, \n",
        "        # criterion='entropy',\n",
        "        # n_estimators=300,\n",
        "        scale_pos_weight = 0.6/0.4 ,\n",
        "        # gamma = 0.5\n",
        "        )\n",
        "    \n",
        "    param_distributions = { \n",
        "      'n_estimators' : [100,200],\n",
        "      'colsample_bylevel':[1,0.9,0.8],\n",
        "      'colsample_bytree':[1,0.9,0.8],\n",
        "      'learning_rate':[0.01,0.02,0.03],\n",
        "      'max_depth': [5,6,7], \n",
        "      'min_samples_leaf': [10],\n",
        "      \"subsample\":[0.7,0.8,0.9],\n",
        "      \"gamma\":[0.5,1]\n",
        "    }\n",
        "    \n",
        "    clf = GridSearchCV(\n",
        "    xgb_model, \n",
        "    param_grid=param_distributions, \n",
        "    # n_iter=50, \n",
        "    cv=3, \n",
        "    # scoring='auc', \n",
        "    verbose=10, \n",
        "    return_train_score=True, \n",
        "    n_jobs=-1, \n",
        "    # random_state=2\n",
        "    )\n",
        "    \n",
        "    return clf"
      ],
      "metadata": {
        "id": "Q8UGeZbwkZZt"
      },
      "execution_count": 784,
      "outputs": []
    },
    {
      "cell_type": "code",
      "source": [
        "# 클래스 선언\n",
        "fuc = My_func()\n",
        "fuc.target = 'Survived'\n",
        "fuc.features = df\n",
        "\n",
        "# fuc.target, fuc.features"
      ],
      "metadata": {
        "id": "pu7GbhtA_3DM"
      },
      "execution_count": 785,
      "outputs": []
    },
    {
      "cell_type": "code",
      "source": [
        "# 함수 적용\n",
        "train, val = fuc.split_data(df) # 훈련/검증 데이터로 나누기\n",
        "X_train, y_train = fuc.split_target(train, fuc.features, fuc.target) # 훈련데이터 특성과 타겟값을 분리\n",
        "X_val, y_val = fuc.split_target(val, fuc.features, fuc.target) # 검증데이터 특성과 타겟값을 분리\n",
        "X_train_enc, X_val_enc = fuc.encoding(X_train, X_val) # 인코딩 작업\n",
        "\n",
        "# X_train_enc.shape, y_train.shape, X_val_enc.shape, y_val.shape"
      ],
      "metadata": {
        "id": "Z_EOZ0yXo5Ha"
      },
      "execution_count": 786,
      "outputs": []
    },
    {
      "cell_type": "code",
      "source": [
        "# 모델링\n",
        "model = fuc.modeling()\n",
        "model.fit(X_train_enc , y_train)"
      ],
      "metadata": {
        "colab": {
          "base_uri": "https://localhost:8080/"
        },
        "id": "AQuoEhNmAfVx",
        "outputId": "9fc40f95-1bdb-4473-e66b-ec525c2f7cf5"
      },
      "execution_count": 787,
      "outputs": [
        {
          "output_type": "stream",
          "name": "stdout",
          "text": [
            "Fitting 3 folds for each of 972 candidates, totalling 2916 fits\n"
          ]
        },
        {
          "output_type": "execute_result",
          "data": {
            "text/plain": [
              "GridSearchCV(cv=3,\n",
              "             estimator=XGBClassifier(n_jobs=-1, random_state=1,\n",
              "                                     scale_pos_weight=1.4999999999999998),\n",
              "             n_jobs=-1,\n",
              "             param_grid={'colsample_bylevel': [1, 0.9, 0.8],\n",
              "                         'colsample_bytree': [1, 0.9, 0.8], 'gamma': [0.5, 1],\n",
              "                         'learning_rate': [0.01, 0.02, 0.03],\n",
              "                         'max_depth': [5, 6, 7], 'min_samples_leaf': [10],\n",
              "                         'n_estimators': [100, 200],\n",
              "                         'subsample': [0.7, 0.8, 0.9]},\n",
              "             return_train_score=True, verbose=10)"
            ]
          },
          "metadata": {},
          "execution_count": 787
        }
      ]
    },
    {
      "cell_type": "code",
      "source": [
        "y_pred = model.predict(X_val_enc)"
      ],
      "metadata": {
        "id": "q-8h-GswCdzc"
      },
      "execution_count": 788,
      "outputs": []
    },
    {
      "cell_type": "code",
      "source": [
        "acc = accuracy_score(y_pred, y_val)\n",
        "print('최적 하이퍼파라미터: ', model.best_params_)\n",
        "print(f'정확도 : {acc}')"
      ],
      "metadata": {
        "colab": {
          "base_uri": "https://localhost:8080/"
        },
        "id": "bIhmHRqFDGMi",
        "outputId": "b91c453d-aedf-49a0-eb1e-43fa4c94733c"
      },
      "execution_count": 789,
      "outputs": [
        {
          "output_type": "stream",
          "name": "stdout",
          "text": [
            "최적 하이퍼파라미터:  {'colsample_bylevel': 0.8, 'colsample_bytree': 0.9, 'gamma': 1, 'learning_rate': 0.03, 'max_depth': 5, 'min_samples_leaf': 10, 'n_estimators': 100, 'subsample': 0.9}\n",
            "정확도 : 0.8379888268156425\n"
          ]
        }
      ]
    },
    {
      "cell_type": "markdown",
      "source": [
        "# 테스트셋으로 예측한후 내보내기"
      ],
      "metadata": {
        "id": "EPeEaZaPD4zx"
      }
    },
    {
      "cell_type": "code",
      "source": [
        "# X_test = eda(test)\n",
        "X_test = test_processed"
      ],
      "metadata": {
        "id": "z-rBHK6OERWZ"
      },
      "execution_count": 827,
      "outputs": []
    },
    {
      "cell_type": "code",
      "source": [
        "# 클래스 선언\n",
        "fuc_test = My_func()\n",
        "fuc_test.target = 'Survived'\n",
        "fuc_test.features = df\n",
        "\n",
        "# fuc.target, fuc.features"
      ],
      "metadata": {
        "id": "cxaRAk6IFDBw"
      },
      "execution_count": 828,
      "outputs": []
    },
    {
      "cell_type": "code",
      "source": [
        "# 함수 적용\n",
        "X_train, y_train = fuc_test.split_target(df, fuc_test.features, fuc_test.target) # 훈련데이터 특성과 타겟값을 분리\n",
        "X_train_enc, X_test_enc = fuc_test.encoding(X_train, X_test) # 인코딩 작업"
      ],
      "metadata": {
        "id": "bkE38-SJD_KW"
      },
      "execution_count": 829,
      "outputs": []
    },
    {
      "cell_type": "code",
      "source": [
        "# # 모델링\n",
        "# model = fuc.modeling()\n",
        "# model.fit(X_train_enc, y_train)"
      ],
      "metadata": {
        "id": "PQrbGy6uEwz8"
      },
      "execution_count": 830,
      "outputs": []
    },
    {
      "cell_type": "code",
      "source": [
        "y_pred_test = model.predict(X_test_enc)\n",
        "submission['Survived'] = y_pred_test"
      ],
      "metadata": {
        "id": "vbPMDJO3FSuO"
      },
      "execution_count": 831,
      "outputs": []
    },
    {
      "cell_type": "markdown",
      "source": [
        "# 파일뒤에 현재시간 기록하기"
      ],
      "metadata": {
        "id": "qVzk3khxUmLd"
      }
    },
    {
      "cell_type": "code",
      "source": [
        "# # Get the current time in the UTC+9 timezone\n",
        "# now_utc_9 = datetime.datetime.now(datetime.timezone(datetime.timedelta(hours=9)))\n",
        "\n",
        "# # Format the datetime object as a string\n",
        "# utc_9_time_str = now_utc_9.strftime('%Y-%m-%d-%H-%M-%S')"
      ],
      "metadata": {
        "id": "IAV0y0jSUlkt"
      },
      "execution_count": 778,
      "outputs": []
    },
    {
      "cell_type": "markdown",
      "source": [
        "# 모델 피클링해서 내보내기"
      ],
      "metadata": {
        "id": "6JrrAofeULlO"
      }
    },
    {
      "cell_type": "code",
      "source": [
        "import pickle\n",
        "\n",
        "# Get the current time in the UTC+9 timezone\n",
        "now_utc_9 = datetime.datetime.now(datetime.timezone(datetime.timedelta(hours=9)))\n",
        "\n",
        "# Format the datetime object as a string\n",
        "utc_9_time_str = now_utc_9.strftime('%Y-%m-%d-%H-%M-%S')\n",
        "\n",
        "model_name = f'model_{utc_9_time_str}.pkl'\n",
        "with open(model_name,'wb') as pickle_file:\n",
        "    pickle.dump(model, pickle_file)\n",
        "\n",
        "files.download(model_name )"
      ],
      "metadata": {
        "colab": {
          "base_uri": "https://localhost:8080/",
          "height": 17
        },
        "id": "aVrT_2YHUPNw",
        "outputId": "c6bc0fb6-d0d2-46d7-84fc-56bf2f47013a"
      },
      "execution_count": 832,
      "outputs": [
        {
          "output_type": "display_data",
          "data": {
            "text/plain": [
              "<IPython.core.display.Javascript object>"
            ],
            "application/javascript": [
              "\n",
              "    async function download(id, filename, size) {\n",
              "      if (!google.colab.kernel.accessAllowed) {\n",
              "        return;\n",
              "      }\n",
              "      const div = document.createElement('div');\n",
              "      const label = document.createElement('label');\n",
              "      label.textContent = `Downloading \"${filename}\": `;\n",
              "      div.appendChild(label);\n",
              "      const progress = document.createElement('progress');\n",
              "      progress.max = size;\n",
              "      div.appendChild(progress);\n",
              "      document.body.appendChild(div);\n",
              "\n",
              "      const buffers = [];\n",
              "      let downloaded = 0;\n",
              "\n",
              "      const channel = await google.colab.kernel.comms.open(id);\n",
              "      // Send a message to notify the kernel that we're ready.\n",
              "      channel.send({})\n",
              "\n",
              "      for await (const message of channel.messages) {\n",
              "        // Send a message to notify the kernel that we're ready.\n",
              "        channel.send({})\n",
              "        if (message.buffers) {\n",
              "          for (const buffer of message.buffers) {\n",
              "            buffers.push(buffer);\n",
              "            downloaded += buffer.byteLength;\n",
              "            progress.value = downloaded;\n",
              "          }\n",
              "        }\n",
              "      }\n",
              "      const blob = new Blob(buffers, {type: 'application/binary'});\n",
              "      const a = document.createElement('a');\n",
              "      a.href = window.URL.createObjectURL(blob);\n",
              "      a.download = filename;\n",
              "      div.appendChild(a);\n",
              "      a.click();\n",
              "      div.remove();\n",
              "    }\n",
              "  "
            ]
          },
          "metadata": {}
        },
        {
          "output_type": "display_data",
          "data": {
            "text/plain": [
              "<IPython.core.display.Javascript object>"
            ],
            "application/javascript": [
              "download(\"download_2352ac6e-0a01-44c9-b8e4-614392c13a7c\", \"model_2023-01-10-03-58-38.pkl\", 366286)"
            ]
          },
          "metadata": {}
        }
      ]
    },
    {
      "cell_type": "markdown",
      "source": [
        "# submission파일 내컴퓨터로 내보내기"
      ],
      "metadata": {
        "id": "F5MHo9FjUGji"
      }
    },
    {
      "cell_type": "code",
      "source": [
        "from google.colab import files\n",
        "\n",
        "# Get the current time in the UTC+9 timezone\n",
        "now_utc_9 = datetime.datetime.now(datetime.timezone(datetime.timedelta(hours=9)))\n",
        "\n",
        "# Format the datetime object as a string\n",
        "utc_9_time_str = now_utc_9.strftime('%Y-%m-%d-%H-%M-%S')\n",
        "\n",
        "file_name = f\"titanic_submission_{utc_9_time_str}.csv\"\n",
        "submission.to_csv(file_name, index=False)\n",
        "files.download(file_name)"
      ],
      "metadata": {
        "colab": {
          "base_uri": "https://localhost:8080/",
          "height": 17
        },
        "id": "Hjpnh_d-HPTL",
        "outputId": "8a9f9441-484a-4e11-9e83-6de2007291e0"
      },
      "execution_count": 833,
      "outputs": [
        {
          "output_type": "display_data",
          "data": {
            "text/plain": [
              "<IPython.core.display.Javascript object>"
            ],
            "application/javascript": [
              "\n",
              "    async function download(id, filename, size) {\n",
              "      if (!google.colab.kernel.accessAllowed) {\n",
              "        return;\n",
              "      }\n",
              "      const div = document.createElement('div');\n",
              "      const label = document.createElement('label');\n",
              "      label.textContent = `Downloading \"${filename}\": `;\n",
              "      div.appendChild(label);\n",
              "      const progress = document.createElement('progress');\n",
              "      progress.max = size;\n",
              "      div.appendChild(progress);\n",
              "      document.body.appendChild(div);\n",
              "\n",
              "      const buffers = [];\n",
              "      let downloaded = 0;\n",
              "\n",
              "      const channel = await google.colab.kernel.comms.open(id);\n",
              "      // Send a message to notify the kernel that we're ready.\n",
              "      channel.send({})\n",
              "\n",
              "      for await (const message of channel.messages) {\n",
              "        // Send a message to notify the kernel that we're ready.\n",
              "        channel.send({})\n",
              "        if (message.buffers) {\n",
              "          for (const buffer of message.buffers) {\n",
              "            buffers.push(buffer);\n",
              "            downloaded += buffer.byteLength;\n",
              "            progress.value = downloaded;\n",
              "          }\n",
              "        }\n",
              "      }\n",
              "      const blob = new Blob(buffers, {type: 'application/binary'});\n",
              "      const a = document.createElement('a');\n",
              "      a.href = window.URL.createObjectURL(blob);\n",
              "      a.download = filename;\n",
              "      div.appendChild(a);\n",
              "      a.click();\n",
              "      div.remove();\n",
              "    }\n",
              "  "
            ]
          },
          "metadata": {}
        },
        {
          "output_type": "display_data",
          "data": {
            "text/plain": [
              "<IPython.core.display.Javascript object>"
            ],
            "application/javascript": [
              "download(\"download_de28d5c7-12ee-4cfc-95b7-2e89bb1b0581\", \"titanic_submission_2023-01-10-03-58-40.csv\", 2839)"
            ]
          },
          "metadata": {}
        }
      ]
    },
    {
      "cell_type": "code",
      "source": [],
      "metadata": {
        "id": "uMMGNUDjsbNK"
      },
      "execution_count": null,
      "outputs": []
    }
  ]
}